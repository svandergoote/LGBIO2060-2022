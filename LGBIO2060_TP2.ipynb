{
  "nbformat": 4,
  "nbformat_minor": 0,
  "metadata": {
    "colab": {
      "provenance": [],
      "toc_visible": true,
      "include_colab_link": true
    },
    "kernelspec": {
      "name": "python3",
      "display_name": "Python 3"
    },
    "language_info": {
      "name": "python"
    },
    "widgets": {
      "application/vnd.jupyter.widget-state+json": {
        "d711718d9bb942f08e21937035ca35a4": {
          "model_module": "@jupyter-widgets/controls",
          "model_name": "VBoxModel",
          "model_module_version": "1.5.0",
          "state": {
            "_dom_classes": [
              "widget-interact"
            ],
            "_model_module": "@jupyter-widgets/controls",
            "_model_module_version": "1.5.0",
            "_model_name": "VBoxModel",
            "_view_count": null,
            "_view_module": "@jupyter-widgets/controls",
            "_view_module_version": "1.5.0",
            "_view_name": "VBoxView",
            "box_style": "",
            "children": [
              "IPY_MODEL_2497944788f249479d4c9c96997a64ed",
              "IPY_MODEL_19a7547869094011a57b68a375e23cd1",
              "IPY_MODEL_b4d6c294c4fe4b119d12b4cb577f91ac",
              "IPY_MODEL_294b8dc683844de2a1f39d19e781bc70",
              "IPY_MODEL_1ffc71df3253458e9b3f7aa8ac11c980"
            ],
            "layout": "IPY_MODEL_aa8201eda8e64216ace606ee362ad36a"
          }
        },
        "2497944788f249479d4c9c96997a64ed": {
          "model_module": "@jupyter-widgets/controls",
          "model_name": "FloatSliderModel",
          "model_module_version": "1.5.0",
          "state": {
            "_dom_classes": [],
            "_model_module": "@jupyter-widgets/controls",
            "_model_module_version": "1.5.0",
            "_model_name": "FloatSliderModel",
            "_view_count": null,
            "_view_module": "@jupyter-widgets/controls",
            "_view_module_version": "1.5.0",
            "_view_name": "FloatSliderView",
            "continuous_update": true,
            "description": "mu_likelihood:",
            "description_tooltip": null,
            "disabled": false,
            "layout": "IPY_MODEL_05150f7eafea46b5929a2f5f0c2e2733",
            "max": 10,
            "min": -10,
            "orientation": "horizontal",
            "readout": true,
            "readout_format": ".2f",
            "step": 0.5,
            "style": "IPY_MODEL_bc10d49f932a429a8d38c732b6ab02b5",
            "value": 3
          }
        },
        "19a7547869094011a57b68a375e23cd1": {
          "model_module": "@jupyter-widgets/controls",
          "model_name": "FloatSliderModel",
          "model_module_version": "1.5.0",
          "state": {
            "_dom_classes": [],
            "_model_module": "@jupyter-widgets/controls",
            "_model_module_version": "1.5.0",
            "_model_name": "FloatSliderModel",
            "_view_count": null,
            "_view_module": "@jupyter-widgets/controls",
            "_view_module_version": "1.5.0",
            "_view_name": "FloatSliderView",
            "continuous_update": true,
            "description": "sigma_likelihood:",
            "description_tooltip": null,
            "disabled": false,
            "layout": "IPY_MODEL_4057b92090af49b18f7fbdc8e973c08b",
            "max": 10,
            "min": 0.5,
            "orientation": "horizontal",
            "readout": true,
            "readout_format": ".2f",
            "step": 0.5,
            "style": "IPY_MODEL_63d52829b23946c782efc0ff2f485132",
            "value": 1.5
          }
        },
        "b4d6c294c4fe4b119d12b4cb577f91ac": {
          "model_module": "@jupyter-widgets/controls",
          "model_name": "FloatSliderModel",
          "model_module_version": "1.5.0",
          "state": {
            "_dom_classes": [],
            "_model_module": "@jupyter-widgets/controls",
            "_model_module_version": "1.5.0",
            "_model_name": "FloatSliderModel",
            "_view_count": null,
            "_view_module": "@jupyter-widgets/controls",
            "_view_module_version": "1.5.0",
            "_view_name": "FloatSliderView",
            "continuous_update": true,
            "description": "mu_prior:",
            "description_tooltip": null,
            "disabled": false,
            "layout": "IPY_MODEL_e0278a1b96f74207a795ab69d8cebfad",
            "max": 10,
            "min": -10,
            "orientation": "horizontal",
            "readout": true,
            "readout_format": ".2f",
            "step": 0.5,
            "style": "IPY_MODEL_9b8d6e848b8c46e78ebb3cf70b644c64",
            "value": -1
          }
        },
        "294b8dc683844de2a1f39d19e781bc70": {
          "model_module": "@jupyter-widgets/controls",
          "model_name": "FloatSliderModel",
          "model_module_version": "1.5.0",
          "state": {
            "_dom_classes": [],
            "_model_module": "@jupyter-widgets/controls",
            "_model_module_version": "1.5.0",
            "_model_name": "FloatSliderModel",
            "_view_count": null,
            "_view_module": "@jupyter-widgets/controls",
            "_view_module_version": "1.5.0",
            "_view_name": "FloatSliderView",
            "continuous_update": true,
            "description": "sigma_prior:",
            "description_tooltip": null,
            "disabled": false,
            "layout": "IPY_MODEL_e1ca2f3ad5e64a56b7723bcbff49aad6",
            "max": 10,
            "min": 0.5,
            "orientation": "horizontal",
            "readout": true,
            "readout_format": ".2f",
            "step": 0.5,
            "style": "IPY_MODEL_2c1d0d584076490f96093956529cfceb",
            "value": 4
          }
        },
        "1ffc71df3253458e9b3f7aa8ac11c980": {
          "model_module": "@jupyter-widgets/output",
          "model_name": "OutputModel",
          "model_module_version": "1.0.0",
          "state": {
            "_dom_classes": [],
            "_model_module": "@jupyter-widgets/output",
            "_model_module_version": "1.0.0",
            "_model_name": "OutputModel",
            "_view_count": null,
            "_view_module": "@jupyter-widgets/output",
            "_view_module_version": "1.0.0",
            "_view_name": "OutputView",
            "layout": "IPY_MODEL_1fa6830e7e744f748b5b377c8cc75b4a",
            "msg_id": "",
            "outputs": [
              {
                "output_type": "display_data",
                "data": {
                  "text/plain": "<Figure size 640x480 with 1 Axes>",
                  "image/png": "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\n"
                },
                "metadata": {}
              }
            ]
          }
        },
        "aa8201eda8e64216ace606ee362ad36a": {
          "model_module": "@jupyter-widgets/base",
          "model_name": "LayoutModel",
          "model_module_version": "1.2.0",
          "state": {
            "_model_module": "@jupyter-widgets/base",
            "_model_module_version": "1.2.0",
            "_model_name": "LayoutModel",
            "_view_count": null,
            "_view_module": "@jupyter-widgets/base",
            "_view_module_version": "1.2.0",
            "_view_name": "LayoutView",
            "align_content": null,
            "align_items": null,
            "align_self": null,
            "border": null,
            "bottom": null,
            "display": null,
            "flex": null,
            "flex_flow": null,
            "grid_area": null,
            "grid_auto_columns": null,
            "grid_auto_flow": null,
            "grid_auto_rows": null,
            "grid_column": null,
            "grid_gap": null,
            "grid_row": null,
            "grid_template_areas": null,
            "grid_template_columns": null,
            "grid_template_rows": null,
            "height": null,
            "justify_content": null,
            "justify_items": null,
            "left": null,
            "margin": null,
            "max_height": null,
            "max_width": null,
            "min_height": null,
            "min_width": null,
            "object_fit": null,
            "object_position": null,
            "order": null,
            "overflow": null,
            "overflow_x": null,
            "overflow_y": null,
            "padding": null,
            "right": null,
            "top": null,
            "visibility": null,
            "width": null
          }
        },
        "05150f7eafea46b5929a2f5f0c2e2733": {
          "model_module": "@jupyter-widgets/base",
          "model_name": "LayoutModel",
          "model_module_version": "1.2.0",
          "state": {
            "_model_module": "@jupyter-widgets/base",
            "_model_module_version": "1.2.0",
            "_model_name": "LayoutModel",
            "_view_count": null,
            "_view_module": "@jupyter-widgets/base",
            "_view_module_version": "1.2.0",
            "_view_name": "LayoutView",
            "align_content": null,
            "align_items": null,
            "align_self": null,
            "border": null,
            "bottom": null,
            "display": null,
            "flex": null,
            "flex_flow": null,
            "grid_area": null,
            "grid_auto_columns": null,
            "grid_auto_flow": null,
            "grid_auto_rows": null,
            "grid_column": null,
            "grid_gap": null,
            "grid_row": null,
            "grid_template_areas": null,
            "grid_template_columns": null,
            "grid_template_rows": null,
            "height": null,
            "justify_content": null,
            "justify_items": null,
            "left": null,
            "margin": null,
            "max_height": null,
            "max_width": null,
            "min_height": null,
            "min_width": null,
            "object_fit": null,
            "object_position": null,
            "order": null,
            "overflow": null,
            "overflow_x": null,
            "overflow_y": null,
            "padding": null,
            "right": null,
            "top": null,
            "visibility": null,
            "width": null
          }
        },
        "bc10d49f932a429a8d38c732b6ab02b5": {
          "model_module": "@jupyter-widgets/controls",
          "model_name": "SliderStyleModel",
          "model_module_version": "1.5.0",
          "state": {
            "_model_module": "@jupyter-widgets/controls",
            "_model_module_version": "1.5.0",
            "_model_name": "SliderStyleModel",
            "_view_count": null,
            "_view_module": "@jupyter-widgets/base",
            "_view_module_version": "1.2.0",
            "_view_name": "StyleView",
            "description_width": "initial",
            "handle_color": null
          }
        },
        "4057b92090af49b18f7fbdc8e973c08b": {
          "model_module": "@jupyter-widgets/base",
          "model_name": "LayoutModel",
          "model_module_version": "1.2.0",
          "state": {
            "_model_module": "@jupyter-widgets/base",
            "_model_module_version": "1.2.0",
            "_model_name": "LayoutModel",
            "_view_count": null,
            "_view_module": "@jupyter-widgets/base",
            "_view_module_version": "1.2.0",
            "_view_name": "LayoutView",
            "align_content": null,
            "align_items": null,
            "align_self": null,
            "border": null,
            "bottom": null,
            "display": null,
            "flex": null,
            "flex_flow": null,
            "grid_area": null,
            "grid_auto_columns": null,
            "grid_auto_flow": null,
            "grid_auto_rows": null,
            "grid_column": null,
            "grid_gap": null,
            "grid_row": null,
            "grid_template_areas": null,
            "grid_template_columns": null,
            "grid_template_rows": null,
            "height": null,
            "justify_content": null,
            "justify_items": null,
            "left": null,
            "margin": null,
            "max_height": null,
            "max_width": null,
            "min_height": null,
            "min_width": null,
            "object_fit": null,
            "object_position": null,
            "order": null,
            "overflow": null,
            "overflow_x": null,
            "overflow_y": null,
            "padding": null,
            "right": null,
            "top": null,
            "visibility": null,
            "width": null
          }
        },
        "63d52829b23946c782efc0ff2f485132": {
          "model_module": "@jupyter-widgets/controls",
          "model_name": "SliderStyleModel",
          "model_module_version": "1.5.0",
          "state": {
            "_model_module": "@jupyter-widgets/controls",
            "_model_module_version": "1.5.0",
            "_model_name": "SliderStyleModel",
            "_view_count": null,
            "_view_module": "@jupyter-widgets/base",
            "_view_module_version": "1.2.0",
            "_view_name": "StyleView",
            "description_width": "initial",
            "handle_color": null
          }
        },
        "e0278a1b96f74207a795ab69d8cebfad": {
          "model_module": "@jupyter-widgets/base",
          "model_name": "LayoutModel",
          "model_module_version": "1.2.0",
          "state": {
            "_model_module": "@jupyter-widgets/base",
            "_model_module_version": "1.2.0",
            "_model_name": "LayoutModel",
            "_view_count": null,
            "_view_module": "@jupyter-widgets/base",
            "_view_module_version": "1.2.0",
            "_view_name": "LayoutView",
            "align_content": null,
            "align_items": null,
            "align_self": null,
            "border": null,
            "bottom": null,
            "display": null,
            "flex": null,
            "flex_flow": null,
            "grid_area": null,
            "grid_auto_columns": null,
            "grid_auto_flow": null,
            "grid_auto_rows": null,
            "grid_column": null,
            "grid_gap": null,
            "grid_row": null,
            "grid_template_areas": null,
            "grid_template_columns": null,
            "grid_template_rows": null,
            "height": null,
            "justify_content": null,
            "justify_items": null,
            "left": null,
            "margin": null,
            "max_height": null,
            "max_width": null,
            "min_height": null,
            "min_width": null,
            "object_fit": null,
            "object_position": null,
            "order": null,
            "overflow": null,
            "overflow_x": null,
            "overflow_y": null,
            "padding": null,
            "right": null,
            "top": null,
            "visibility": null,
            "width": null
          }
        },
        "9b8d6e848b8c46e78ebb3cf70b644c64": {
          "model_module": "@jupyter-widgets/controls",
          "model_name": "SliderStyleModel",
          "model_module_version": "1.5.0",
          "state": {
            "_model_module": "@jupyter-widgets/controls",
            "_model_module_version": "1.5.0",
            "_model_name": "SliderStyleModel",
            "_view_count": null,
            "_view_module": "@jupyter-widgets/base",
            "_view_module_version": "1.2.0",
            "_view_name": "StyleView",
            "description_width": "initial",
            "handle_color": null
          }
        },
        "e1ca2f3ad5e64a56b7723bcbff49aad6": {
          "model_module": "@jupyter-widgets/base",
          "model_name": "LayoutModel",
          "model_module_version": "1.2.0",
          "state": {
            "_model_module": "@jupyter-widgets/base",
            "_model_module_version": "1.2.0",
            "_model_name": "LayoutModel",
            "_view_count": null,
            "_view_module": "@jupyter-widgets/base",
            "_view_module_version": "1.2.0",
            "_view_name": "LayoutView",
            "align_content": null,
            "align_items": null,
            "align_self": null,
            "border": null,
            "bottom": null,
            "display": null,
            "flex": null,
            "flex_flow": null,
            "grid_area": null,
            "grid_auto_columns": null,
            "grid_auto_flow": null,
            "grid_auto_rows": null,
            "grid_column": null,
            "grid_gap": null,
            "grid_row": null,
            "grid_template_areas": null,
            "grid_template_columns": null,
            "grid_template_rows": null,
            "height": null,
            "justify_content": null,
            "justify_items": null,
            "left": null,
            "margin": null,
            "max_height": null,
            "max_width": null,
            "min_height": null,
            "min_width": null,
            "object_fit": null,
            "object_position": null,
            "order": null,
            "overflow": null,
            "overflow_x": null,
            "overflow_y": null,
            "padding": null,
            "right": null,
            "top": null,
            "visibility": null,
            "width": null
          }
        },
        "2c1d0d584076490f96093956529cfceb": {
          "model_module": "@jupyter-widgets/controls",
          "model_name": "SliderStyleModel",
          "model_module_version": "1.5.0",
          "state": {
            "_model_module": "@jupyter-widgets/controls",
            "_model_module_version": "1.5.0",
            "_model_name": "SliderStyleModel",
            "_view_count": null,
            "_view_module": "@jupyter-widgets/base",
            "_view_module_version": "1.2.0",
            "_view_name": "StyleView",
            "description_width": "initial",
            "handle_color": null
          }
        },
        "1fa6830e7e744f748b5b377c8cc75b4a": {
          "model_module": "@jupyter-widgets/base",
          "model_name": "LayoutModel",
          "model_module_version": "1.2.0",
          "state": {
            "_model_module": "@jupyter-widgets/base",
            "_model_module_version": "1.2.0",
            "_model_name": "LayoutModel",
            "_view_count": null,
            "_view_module": "@jupyter-widgets/base",
            "_view_module_version": "1.2.0",
            "_view_name": "LayoutView",
            "align_content": null,
            "align_items": null,
            "align_self": null,
            "border": null,
            "bottom": null,
            "display": null,
            "flex": null,
            "flex_flow": null,
            "grid_area": null,
            "grid_auto_columns": null,
            "grid_auto_flow": null,
            "grid_auto_rows": null,
            "grid_column": null,
            "grid_gap": null,
            "grid_row": null,
            "grid_template_areas": null,
            "grid_template_columns": null,
            "grid_template_rows": null,
            "height": null,
            "justify_content": null,
            "justify_items": null,
            "left": null,
            "margin": null,
            "max_height": null,
            "max_width": null,
            "min_height": null,
            "min_width": null,
            "object_fit": null,
            "object_position": null,
            "order": null,
            "overflow": null,
            "overflow_x": null,
            "overflow_y": null,
            "padding": null,
            "right": null,
            "top": null,
            "visibility": null,
            "width": null
          }
        }
      }
    }
  },
  "cells": [
    {
      "cell_type": "markdown",
      "metadata": {
        "id": "view-in-github",
        "colab_type": "text"
      },
      "source": [
        "<a href=\"https://colab.research.google.com/github/svandergoote/LGBIO2060-2022/blob/main/LGBIO2060_TP2.ipynb\" target=\"_parent\"><img src=\"https://colab.research.google.com/assets/colab-badge.svg\" alt=\"Open In Colab\"/></a>"
      ]
    },
    {
      "cell_type": "markdown",
      "metadata": {
        "id": "p50qGxfb42PA"
      },
      "source": [
        "# LGBIO2060 Exercice session 3\n",
        "\n",
        "#Bayesian inference of a continuous hidden state\n",
        "\n",
        "__Authors:__ Simon Vandergooten, Clémence Vandamme, Florence Blondiaux & Antoine De Comité\n",
        "\n",
        "__Content inspired from__: Neuromatch Academy github.com/NeuromatchAcademy\n"
      ]
    },
    {
      "cell_type": "markdown",
      "metadata": {
        "id": "WzTP399FOxlc"
      },
      "source": [
        "##Introduction and context\n",
        "\n",
        "In this tutorial, we will extend the Bayes' theorem introduced last week to continuous hidden state.\n",
        "\n",
        "In the first part, we will describe how to compute a posterior from continuous distributions. Then, we will apply this to a real life example.\n",
        "\n"
      ]
    },
    {
      "cell_type": "code",
      "metadata": {
        "cellView": "form",
        "id": "PtqBzPnDwvix"
      },
      "source": [
        "# @title Import libraries\n",
        "import numpy as np\n",
        "import matplotlib.pyplot as plt"
      ],
      "execution_count": 1,
      "outputs": []
    },
    {
      "cell_type": "markdown",
      "metadata": {
        "id": "_TG3O_IP2vp_"
      },
      "source": [
        "##Mathematical formalism\n",
        "\n",
        "Along this tutorial, we will again be using Bayes' theorem. As a reminder, this theorem combines two sources of information into an optimal one. It combines the *likelihood*, which is a distribution that quantifies how likely the measurement is, given the real latent state; and the *prior* which quantifies the knowledge we have about the system, thanks to our prior experience. Bayes' rule defines the *posterior* distribution in the following manner:\n",
        "\n",
        "\\begin{eqnarray}\n",
        "\\text{Posterior} = \\dfrac{ \\text{Likelihood} \\times \\text{Prior}}{ \\text{Normalization constant}} \\tag{1}\n",
        "\\end{eqnarray}\n",
        "\n",
        "We consider now continuous distributions. When both the prior and likelihood are gaussian distributions, the posterior will be a gaussian distribution as well.\n",
        "\n",
        "In fact, the mean of the posterior distribution is simply a weighted average of the means of the prior and of the likelihood. The weight is determined by the confidence associated with each source of information.\n",
        "If one source of information is very noisy (of high variance), we will not have high confidence in it and grant it less weight.\n",
        "\n",
        "$$\n",
        "\\mu_{3} = a\\mu_{1} + (1-a)\\mu_{2} \\tag{2}\n",
        "$$\n",
        "$$\n",
        "a = \\frac{\\sigma_{1}^{-2}}{\\sigma_{1}^{-2} + \\sigma_{2}^{-2}} \\tag{3}\n",
        "$$\n",
        "\n",
        "Since we are combining two sources of information, we are **gaining** information. The amount of information carried by a gaussian is the inverse of the variance. Therefore, the information of the posterior is equal to the sum of the information of prior and the likelihood. Then, we have:\n",
        "\n",
        "$$\\sigma_{3}^{-2} = \\sigma_{1}^{-2} + \\sigma_{2}^{-2} \\tag{4}$$\n",
        "\n",
        "Therefore:\n",
        "\n",
        "$$\n",
        "\\begin{array}{rcl}\n",
        "\\text{Posterior} &\\propto& \\mathcal{N}(\\mu_{\\text{likelihood}},\\sigma_{\\text{likelihood}}^2) \\times \\mathcal{N}(\\mu_{\\text{prior}},\\sigma_{\\text{prior}}^2) \\\\\n",
        "&= & \\mathcal{N}\\left( \\dfrac{\\sigma^2_{\\text{likelihood}}\\mu_{\\text{prior}}+\\sigma^2_{\\text{prior}}\\mu_{\\text{likelihood}}}{\\sigma^2_{\\text{likelihood}}+\\sigma^2_{\\text{prior}}}, \\dfrac{\\sigma^2_{\\text{likelihood}}\\sigma^2_{\\text{prior}}}{\\sigma^2_{\\text{likelihood}}+\\sigma^2_{\\text{prior}}} \\right)\n",
        "\\end{array} \\tag{5}\n",
        "$$\n"
      ]
    },
    {
      "cell_type": "markdown",
      "source": [
        "### Exercise 1A: Finding the posterior analytically\n",
        "\n",
        "Compute, based on equation (5), the mean ($\\mu$) and variance ($\\sigma^2$) a posterior distribution based on the following prior and likelihood:\n",
        "$$ Prior \\sim \\mathcal{N}(4, 0.5) $$\n",
        "$$ Likelihood \\sim \\mathcal{N}(2, 1.5) $$\n",
        "\n",
        "Verify that the value of mean of the posterior is between that of the prior and that of the likelihood. Verify also that the variance of the posterior is smaller than that of the prior and likelihood."
      ],
      "metadata": {
        "id": "HPAU1WA21GsJ"
      }
    },
    {
      "cell_type": "markdown",
      "metadata": {
        "id": "xK-Y21Q12vqC"
      },
      "source": [
        "### Exercise 1B: Finding the posterior computationally\n",
        "\n",
        "Implement the Bayes' theorem to compute the posterior probability distribution as a function of the prior and the likelihood based on the distribution of the prior and posterior, i.e, using equation (1).\n",
        "\n",
        "Hints:\n",
        "\n",
        "* You can use the function `my_gaussian(x, mean, scale)` that you implementend in tutorial 1 to generate likelihood ($\\mu$=3, $\\sigma$=1.5) and prior ($\\mu=-1$ and $\\sigma$ =1.5). This function is provided for you in this notebook.\n",
        "* Compute the posterior **using pointwise multiplication** of the likelihood and prior. Don't forget to normalize so the posterior adds up to 1.\n",
        "\n",
        "\n",
        "\n"
      ]
    },
    {
      "cell_type": "code",
      "metadata": {
        "execution": {},
        "id": "iy6zLMkyMNgv",
        "cellView": "form"
      },
      "source": [
        "# @markdown Execute this cell to enable the function `my_gaussian`\n",
        "def my_gaussian(x_vector,mu,sigma):\n",
        "    \"\"\"\n",
        "  Author: Antoine de Comite\n",
        "  This function computes the gaussian distribution characterised by mu & sigma on the set x_vector\n",
        "\n",
        "  Inputs : x_vector (numpy array) the set over which you want to compute the gaussian distribution\n",
        "           mu (double) mean value of the gaussian distribution\n",
        "           sigma (double) standard deviation of the gaussian distribution\n",
        "  Outputs: px (numpy array) is the gaussian distribution evaluated over x_vector\n",
        "  \"\"\"\n",
        "\n",
        "    px = np.exp(- 1/2/sigma**2 * (mu - x_vector) ** 2)\n",
        "    px = px / px.sum()\n",
        "    return px"
      ],
      "execution_count": null,
      "outputs": []
    },
    {
      "cell_type": "code",
      "metadata": {
        "id": "pEihJYRS2vqT"
      },
      "source": [
        "x_vector = np.arange(-10,10,0.1)\n",
        "\n",
        "def compute_posterior_pointwise(prior, likelihood):\n",
        "    '''\n",
        "    Returns the normalized posterior probability distribution based on the prior and the likelihood\n",
        "    Prior: The prior probability distribution\n",
        "    Likelihood: The likelihood probability distribution\n",
        "    '''\n",
        "    ##########################\n",
        "    ##### Your code here #####\n",
        "    ##########################\n",
        "    ...\n",
        "\n",
        "# Run the lines below to test your code, don't forget to define first the likelihood, prior and posterior\n",
        "...\n",
        "\n",
        "fig, ax = plt.subplots()\n",
        "ax.plot(x_vector,likelihood,'r',linewidth=2.5,label='likelihood')\n",
        "ax.plot(x_vector,prior,'g',linewidth=2.5,label='prior')\n",
        "ax.plot(x_vector,posterior,'b',linewidth=2.5,label='posterior')\n",
        "ax.set_xlabel('x-position')\n",
        "ax.set_ylabel('probability')\n",
        "ax.legend()"
      ],
      "execution_count": null,
      "outputs": []
    },
    {
      "cell_type": "markdown",
      "metadata": {
        "id": "FLyG1j6f_KU1"
      },
      "source": [
        "\n",
        "\n",
        "*Example output:*\n",
        "\n",
        "<img alt='Solution hint' align='left' width=413 height=300 src=https://raw.githubusercontent.com/svandergoote/LGBIO2060-2021/master/Solutions/TP3_sol1.png>\n"
      ]
    },
    {
      "cell_type": "markdown",
      "metadata": {
        "id": "lHXZhfgFoDDN"
      },
      "source": [
        "###Relation between prior, likelihood and posterior\n",
        "**Execute the widget below to investigate the impact of prior and likelihood on the posterior distribution**"
      ]
    },
    {
      "cell_type": "code",
      "metadata": {
        "id": "XslhpIQu2vqb",
        "cellView": "form",
        "outputId": "b08b37f9-16f3-4da2-de9f-2b5df748815f",
        "colab": {
          "base_uri": "https://localhost:8080/",
          "height": 558,
          "referenced_widgets": [
            "d711718d9bb942f08e21937035ca35a4",
            "2497944788f249479d4c9c96997a64ed",
            "19a7547869094011a57b68a375e23cd1",
            "b4d6c294c4fe4b119d12b4cb577f91ac",
            "294b8dc683844de2a1f39d19e781bc70",
            "1ffc71df3253458e9b3f7aa8ac11c980",
            "aa8201eda8e64216ace606ee362ad36a",
            "05150f7eafea46b5929a2f5f0c2e2733",
            "bc10d49f932a429a8d38c732b6ab02b5",
            "4057b92090af49b18f7fbdc8e973c08b",
            "63d52829b23946c782efc0ff2f485132",
            "e0278a1b96f74207a795ab69d8cebfad",
            "9b8d6e848b8c46e78ebb3cf70b644c64",
            "e1ca2f3ad5e64a56b7723bcbff49aad6",
            "2c1d0d584076490f96093956529cfceb",
            "1fa6830e7e744f748b5b377c8cc75b4a"
          ]
        }
      },
      "source": [
        "#@title\n",
        "#@markdown Make sure you execute this cell to enable the widget!\n",
        "\n",
        "x = np.arange(-15, 15, 0.1)\n",
        "\n",
        "import ipywidgets as widgets\n",
        "\n",
        "def refresh(mu_likelihood=3, sigma_likelihood=1.5, mu_prior=-1, sigma_prior=1.5):\n",
        "    likelihood = my_gaussian(x, mu_likelihood, sigma_likelihood)\n",
        "    prior = my_gaussian(x, mu_prior, sigma_prior)\n",
        "    posterior = compute_posterior_pointwise(prior,likelihood)\n",
        "    plt.plot(x, likelihood, 'r',label='likelihood')\n",
        "    plt.plot(x,prior,'g',label='prior')\n",
        "    plt.plot(x, posterior, 'b', label='posterior')\n",
        "    plt.legend()\n",
        "    plt.show()\n",
        "\n",
        "style = {'description_width': 'initial'}\n",
        "\n",
        "@widgets.interact(\n",
        "    mu_likelihood=widgets.FloatSlider(value=3, min=-10, max=10, step=0.5, description=\"mu_likelihood:\", style=style),\n",
        "    sigma_likelihood=widgets.FloatSlider(value=1.5, min=0.5, max=10, step=0.5, description=\"sigma_likelihood:\", style=style),\n",
        "    mu_prior=widgets.FloatSlider(value=-1, min=-10, max=10, step=0.5, description=\"mu_prior:\", style=style),\n",
        "    sigma_prior=widgets.FloatSlider(value=1.5, min=0.5, max=10, step=0.5, description=\"sigma_prior:\", style=style)\n",
        ")\n",
        "def plot(mu_likelihood, sigma_likelihood, mu_prior, sigma_prior):\n",
        "  refresh(mu_likelihood, sigma_likelihood, mu_prior, sigma_prior)"
      ],
      "execution_count": null,
      "outputs": [
        {
          "output_type": "display_data",
          "data": {
            "text/plain": [
              "interactive(children=(FloatSlider(value=3.0, description='mu_likelihood:', max=10.0, min=-10.0, step=0.5, styl…"
            ],
            "application/vnd.jupyter.widget-view+json": {
              "version_major": 2,
              "version_minor": 0,
              "model_id": "d711718d9bb942f08e21937035ca35a4"
            }
          },
          "metadata": {}
        }
      ]
    },
    {
      "cell_type": "markdown",
      "metadata": {
        "id": "89wCtKoA2vqo"
      },
      "source": [
        "### Exercise 1B: Finding the posterior analytically\n",
        "Once you computed the posterior distribution using the previous function, you can find the mean of this distribution using the following formula :\n",
        "\\\n",
        "$$\\int_x p(x) dx$$ or $$\\sum_x x\\cdot p(x)$$\n",
        "\n",
        "\n",
        "\n",
        "In this exercise, we ask you to verify that both methods presented in exercise 1A and 1B are equivalent.  To do so, we will keep our likelihood constant as an $\\mathcal{N}(3, 1.5^2)$ distribution, while considering priors with different means ranging from $\\mu=-10$ to $\\mu=10$ and constant $\\sigma = 1.5$.\n",
        "\n",
        "For all the different priors, compute the mean of the posterior with the two methods to get $\\mu_{analytical}$ and $\\mu_{by\\ integration}$\n",
        "\n",
        "\n",
        "Are the estimates of the posterior mean the same in both cases?\n",
        "\n",
        "\n"
      ]
    },
    {
      "cell_type": "code",
      "metadata": {
        "id": "Jzn6FYAC2vqr"
      },
      "source": [
        "def compare_computational_analytical_means():\n",
        "\n",
        "    ##########################\n",
        "    ##### Your code here #####\n",
        "    ##########################\n",
        "    ...\n",
        "\n",
        "    return mus_priors, mus_analytical, mus_by_integration\n",
        "\n",
        "\n",
        "mu_priors, mu_analytical, mu_computational = compare_computational_analytical_means()\n",
        "\n",
        "#Run the lines below to test your code\n",
        "plt.plot(mu_priors,mu_analytical,'r', label= 'Analytical')\n",
        "plt.plot(mu_priors,mu_computational,'b--', label= 'Computational')\n",
        "plt.legend()\n",
        "plt.xlabel('Mean of the prior distribution')\n",
        "plt.ylabel('Mean of the posterior distribution')\n",
        "plt.show()"
      ],
      "execution_count": null,
      "outputs": []
    },
    {
      "cell_type": "markdown",
      "metadata": {
        "id": "-RrN1DJQkkra"
      },
      "source": [
        "\n",
        "*Example output:*\n",
        "\n",
        "<img alt='Solution hint' align='left' width=413 height=300 src=https://raw.githubusercontent.com/svandergoote/LGBIO2060-2021/master/Solutions/TP3_sol2.PNG>"
      ]
    },
    {
      "cell_type": "markdown",
      "metadata": {
        "id": "hOy4d5RW2vq3"
      },
      "source": [
        "## Application of Bayes' theorem"
      ]
    },
    {
      "cell_type": "markdown",
      "metadata": {
        "id": "4WZaeMwX2vq4"
      },
      "source": [
        "Consider you are playing the final of a very important tennis tournament against a very famous tennis player, Yannick Noah. You want to perfectly estimate where the ball he just hit will land. To do this you have two sources of information:\n",
        "\n",
        "  1. The visual information you gathered as he hit the ball (the angle of his wirst, shoulder, the angle of attack,...)\n",
        "  2. The information you gathered before the match about his game (his game stats, his current season,...)\n",
        "\n",
        "In this exercise, we will:\n",
        "  1. Generate the likelihood for multiple possible stimulus inputs\n",
        "  2. Generate a Gaussian prior for multiple possible stimulus inputs\n",
        "  3. Estimate our posterior as a function of the stimulus input\n",
        "  4. Estimate a participant response given the posterior\n",
        "  \n",
        "Typically, in an experimental setup, we know the participant response and the stimulus. We use then these information to recover the model used by the brain."
      ]
    },
    {
      "cell_type": "markdown",
      "metadata": {
        "id": "nUVeMzBW2vq4"
      },
      "source": [
        "\n",
        "\n",
        "![Generative model](https://raw.githubusercontent.com/fblondiaux/LGBIO2060-2020/master/Solutions/TP2-GenerativeModel.png)\n"
      ]
    },
    {
      "cell_type": "markdown",
      "metadata": {
        "id": "Zgb5TmZ82vq5"
      },
      "source": [
        "\n",
        "### 1 -  Likelihood array\n",
        "  \n",
        "The first step is to create the likelihood distribution from the encoded stimulus. For the sake of visualization, we will create a likelihood $f(x) = p(\\tilde x|x)$ for each potential encoded stimulus $\\tilde x$. We will then be able to visualize the likelihood as a function of hypothesized true stimulus positions: $x$ on the x-axis and encoded position $\\tilde x$ on the y-axis.\n",
        "\n",
        "**Exercise 2.A**\n",
        "We assume that the encoding of the position is on average equal to the true position, with some gaussian noise. Then, using the equation for the `my_gaussian` and the values in `hypothetical_stim`:\n",
        "  \n",
        "* Create a Gaussian likelihood with mean varying from `hypothetical_stim`, keeping $\\sigma_{\\text{likelihood}}$ constant at 1.\n",
        "* Each likelihood will have a different mean and thus a different row-likelihood of your 2D array, such that you end up with a likelihood array made up of 1,000 row-Gaussians with different means.\n",
        "\n",
        "In other words, each entry of the output array is the probability that the brain encodes the position $\\tilde x_i$ given the true position $x_j$."
      ]
    },
    {
      "cell_type": "code",
      "metadata": {
        "scrolled": true,
        "id": "sdk60vTN2vq6"
      },
      "source": [
        "x = np.arange(-10, 10, 0.1)\n",
        "hypothetical_stim = np.linspace(-8, 8, 1000)\n",
        "\n",
        "def compute_likelihood_array(x_points, stim_array, sigma=1.):\n",
        "    \"\"\"\n",
        "    This function computes the likelihood array of a given stimulus\n",
        "\n",
        "    Inputs : x_points (numpy array) is the set of points on which one wants to evaluate the likelihood\n",
        "             stim_array (numpy array) contains the mean position of every possible stimulus\n",
        "             sigma (float) is the standard deviation of the gaussian distribution\n",
        "\n",
        "    Outputs : likelihood array (numpy array) is a len(stim_array) x len(x_points) that contains the evaluation of\n",
        "              the likelihood for every possible stimulus on the the set x_points. Each line of this array corresponds\n",
        "              to a single simulus (stim_array[i]).\n",
        "    \"\"\"\n",
        "    #########################\n",
        "    ## your code goes here ##\n",
        "    #########################\n",
        "    return likelihood_array\n",
        "\n",
        "\n",
        "\n",
        "# Run the lines below to test your code\n",
        "likelihood_array = compute_likelihood_array(x, hypothetical_stim)\n",
        "\n",
        "# Plot the results\n",
        "fig = plt.figure()\n",
        "ax = fig.add_subplot(111)\n",
        "colormap = ax.imshow(likelihood_array, extent=[-10, 10, 8, -8])\n",
        "cbar = plt.colorbar(colormap, ax=ax)\n",
        "cbar.set_label('probability')\n",
        "ax.invert_yaxis()\n",
        "ax.set_xlabel(\"$x$ : Potential true stimulus $x$\")\n",
        "ax.set_title(\"Likelihood as a function of $\\~x$ : $p(\\~x | x)$\")\n",
        "ax.set_ylabel(\"Possible brain encoding $\\~x$\")\n",
        "ax.set_aspect('auto')"
      ],
      "execution_count": null,
      "outputs": []
    },
    {
      "cell_type": "markdown",
      "metadata": {
        "id": "XZnk0i9PktQZ"
      },
      "source": [
        "\n",
        "*Example output:*\n",
        "\n",
        "<img alt='Solution hint' align='left' width=413 height=300 src=https://raw.githubusercontent.com/svandergoote/LGBIO2060-2021/master/Solutions/TP3_sol3.PNG>"
      ]
    },
    {
      "cell_type": "markdown",
      "metadata": {
        "id": "bRtb0rIu2vrB"
      },
      "source": [
        "**Question : How does the likelihood distribution for a given stimulus encoding looks like?**"
      ]
    },
    {
      "cell_type": "markdown",
      "metadata": {
        "id": "G9Pct7652vrD"
      },
      "source": [
        "\n",
        "### 2 - Mixture-of-Gaussians Prior\n",
        "\n",
        "The prior distribution can sometimes be more complex than a single gaussian distribution. In this exercise, we will implement a prior distribution which is a mixture of gaussian distributions. To go back to our tennis example, let us assume that your opponent sends the ball in the middle of the court 50% of the time and in the corner of the court 50% of the time. A mixture of Gaussian will combine these two information to obtain a prior distribution that integrate them both.\n",
        "We will control how the Gaussians are mixed by summing them together with a *mixing* or *weight* parameter $p_{centre}$, set to a value between 0 and 1, such that:\n",
        "\n",
        "\\begin{eqnarray}\n",
        "\\text{Mixture} = p_{\\text{centre}} \\times \\mathcal{N}\\left(\\mu_{\\text{centre}},\\sigma_{\\text{centre}}\\right) + \\left(1-p_{\\text{centre}}\\right) \\times \\mathcal{N}\\left(\\mu_{\\text{corner}},\\sigma_{\\text{corner}}\\right)\n",
        "\\end{eqnarray}\n",
        "\n",
        "where $p_{centre}$ denotes the probability that the ball lands at the centre of the court.\n",
        "\n",
        "\n",
        "For visualization reasons, we will create a prior array that has the same dimension as the likelihood array we created in the previous exercise. Since the prior does not change as a function of $\\tilde x$ it will be identical for each row of the prior 2D array.\n",
        "\n",
        "Using the equation for the Gaussian `my_gaussian`:\n",
        "* Generate a Gaussian *center* with mean 0 and standard deviation 0.5.\n",
        "* Generate another Gaussian *corner* with mean 3 and standard deviation 1\n",
        "* Combine the two Gaussians (*center* + *corner*) to make a new prior by mixing the two Gaussians with mixing parameter $p_{center}$ = 0.50.\n",
        "* This will be the first row of your prior 2D array\n",
        "* Now repeat this for varying brain encodings $\\tilde x$. Since the prior does not depend on $\\tilde x$ you can just repeat the prior for each $\\tilde x$ (hint: use np.tile) that row prior to make an array of 1,000 (i.e. `hypothetical_stim.shape[0]`)  row-priors.\n"
      ]
    },
    {
      "cell_type": "code",
      "metadata": {
        "id": "v7BdXql52vrE"
      },
      "source": [
        "x = np.arange(-10, 10, 0.1)\n",
        "\n",
        "def calculate_prior_array(x_points, stim_array, p_center,\n",
        "                          mean_center=.0, sigma_center=.5,\n",
        "                          mean_corner=3, sigma_corner=1):\n",
        "    \"\"\"\n",
        "    This function computes the prior distribution based on the mixture of gaussians\n",
        "\n",
        "    Inputs : x_points (numpy array) is the set of points on which we want to evaluate the prior\n",
        "             stim_array (numpy array) is the array of stimulus input\n",
        "             p_center (float) is the probability that the ball lands in center of the court\n",
        "             mean_center (float) mean value of the center ball landing site\n",
        "             mean_corner (float) mean value of the corner ball landing site\n",
        "             sigma_center (float) std deviation of the center ball landing site\n",
        "             sigma_corner (float) std deviation of the corner ball landing site\n",
        "\n",
        "    Outputs : prior array (numpy array) contains the prior in a len(stim_array) x len(x_points) array\n",
        "        'indep' stands for independent\n",
        "    \"\"\"\n",
        "\n",
        "    ###########################\n",
        "    ### your code goes here ###\n",
        "    ###########################\n",
        "\n",
        "    return prior_array\n",
        "\n",
        "\n",
        "# Run the lines below to test your code\n",
        "\n",
        "\n",
        "\n",
        "p_center = .5\n",
        "hypothetical_stim = np.linspace(-8, 8, 1000)\n",
        "prior_array = calculate_prior_array(x, hypothetical_stim, p_center)\n",
        "\n",
        "fig = plt.figure()\n",
        "ax = fig.add_subplot(111)\n",
        "colormap = ax.imshow(prior_array, extent=[-10, 10, 8, -8])\n",
        "cbar = plt.colorbar(colormap, ax=ax)\n",
        "cbar.set_label('probability')\n",
        "ax.invert_yaxis()\n",
        "ax.set_xlabel(\"$x$ : Potential true stimulus $x$\")\n",
        "ax.set_title(\"Prior as a function of $\\~x$ : $p(\\~x|x)$\")\n",
        "ax.set_ylabel(\"Possible brain encoding $\\~x$\")\n",
        "ax.set_aspect('auto')"
      ],
      "execution_count": null,
      "outputs": []
    },
    {
      "cell_type": "markdown",
      "metadata": {
        "id": "T3h4Me3aKUIE"
      },
      "source": [
        "\n",
        "*Example output:*\n",
        "\n",
        "<img alt='Solution hint' align='left' width=413 height=300 src=https://raw.githubusercontent.com/svandergoote/LGBIO2060-2021/master/Solutions/TP3_sol4.PNG>"
      ]
    },
    {
      "cell_type": "markdown",
      "metadata": {
        "id": "lsnJSNVa2vrO"
      },
      "source": [
        "---\n",
        "### 3 - Bayes Theorem with Complex Posteriors"
      ]
    },
    {
      "cell_type": "markdown",
      "metadata": {
        "id": "l5CYsWyMUFzF"
      },
      "source": [
        "We now want to compute the posterior distribution using Bayes' theorem. Since we have already created a likelihood and a prior distributions for each brain encoded position $\\tilde x$, all we need to do is to multiply them row-wise. That is, each row of the posterior array will be the posterior distribution resulting from the multiplication of the prior and likelihood distributions of the same equivalent row.\n",
        "\n",
        "Mathematically:\n",
        "$$\n",
        "\\begin{eqnarray}\n",
        "    Posterior\\left[i, :\\right] \\propto Likelihood\\left[i, :\\right] \\odot Prior\\left[i, :\\right]\n",
        "\\end{eqnarray}\n",
        "$$\n",
        "where $\\odot$ represents the [Hadamard Product](https://en.wikipedia.org/wiki/Hadamard_product_(matrices)) (i.e., elementwise multiplication) of the corresponding prior and likelihood row vectors `i` from each matrix.\n",
        "\n",
        "Follow these steps to build the posterior as a function of the brain encoded stimulus $\\tilde x$:\n",
        "* For each row of the prior and likelihood (i.e. each possible brain encoding $\\tilde x$), fill in the posterior matrix so that every row of the posterior array represents the posterior density for a different brain encode  $\\tilde x$.\n",
        "\n",
        "**Try to implement a vectorial operation to compute the posterior**"
      ]
    },
    {
      "cell_type": "code",
      "metadata": {
        "id": "YRneAULr2vrS"
      },
      "source": [
        "def calculate_posterior_array(prior_array, likelihood_array):\n",
        "    \"\"\"\n",
        "    This function computes the posterior distribution from the prior & the likelihood\n",
        "\n",
        "    Inputs : prior_array (numpy array) is the prior distribution\n",
        "             likelihood_array (numpy array) is the likelihood distribution\n",
        "             For both these arrays, each line correspond to a different input stimulus\n",
        "    Outputs : posterior_array (numpy array) that contains the posterior distribution for the different\n",
        "              input stimulus (each line corresponds to a different input)\n",
        "    \"\"\"\n",
        "\n",
        "    ###########################\n",
        "    ### your code goes here ###\n",
        "    ###########################\n",
        "\n",
        "    return posterior_array\n",
        "\n",
        "#Run the lines below to test your code\n",
        "posterior_array = calculate_posterior_array(prior_array, likelihood_array)\n",
        "fig = plt.figure()\n",
        "ax = fig.add_subplot(111)\n",
        "colormap = ax.imshow(posterior_array, extent=[-10, 10, 8, -8])\n",
        "cbar = plt.colorbar(colormap, ax=ax)\n",
        "cbar.set_label('probability')\n",
        "ax.invert_yaxis()\n",
        "ax.set_ylabel('Brain encoded Stimulus $\\~x$')\n",
        "ax.set_title('Posterior as a fcn of $\\~x$ : $p(x | \\~x)$')\n",
        "ax.set_xlabel('Hypothesized Position $x$')\n",
        "ax.set_aspect('auto')"
      ],
      "execution_count": null,
      "outputs": []
    },
    {
      "cell_type": "markdown",
      "metadata": {
        "id": "w8IHJ-8XKYtB"
      },
      "source": [
        "\n",
        "*Example output:*\n",
        "\n",
        "<img alt='Solution hint' align='left' width=413 height=300 src=https://raw.githubusercontent.com/svandergoote/LGBIO2060-2021/master/Solutions/TP3_sol5.PNG>"
      ]
    },
    {
      "cell_type": "markdown",
      "metadata": {
        "id": "t8PirivP2vrY"
      },
      "source": [
        "---\n",
        "### 4 - Estimating the position $\\hat x$\n"
      ]
    },
    {
      "cell_type": "markdown",
      "metadata": {
        "id": "Lzw-1nq02vrZ"
      },
      "source": [
        "Now that we have a posterior distribution (for each possible brain encoding $\\tilde x$) that represents the brain's estimated ball position: $p(x|\\tilde x)$, we want to make an estimate (response) of the ball location $\\hat x$ using the posterior distribution. This would represent the subject's estimate if their (for us as experimentalist unobservable) brain encoding took on each possible value.\n",
        "\n",
        "This effectively encodes the *decision* that a participant would make for a given brain encoding $\\tilde x$. In this exercise, we make the assumption that participants take the mean of the posterior (decision rule) as a response estimate for the ball location.\n",
        "\n",
        "Using this knowledge, we will now represent $\\hat x$ as a function of the encoded stimulus $\\tilde x$. This will result in a 2D binary decision array. To do so, we will scan the posterior matrix (i.e. row-wise), and set the array cell value to 1 at the mean of the row-wise posterior.\n",
        "\n",
        "**Suggestions**\n",
        "* For each brain encoding $\\tilde x$ (row of the posterior array), calculate the mean of the posterior, and set the corresponding cell of the binary decision array to 1. (e.g., if the mean of the posterior is at position 0, then set the cell with x_column == 0 to 1)."
      ]
    },
    {
      "cell_type": "code",
      "metadata": {
        "id": "J-RE1MNs2vra"
      },
      "source": [
        "def calculate_binary_decision_array(x_points, posterior_array):\n",
        "    \"\"\"\n",
        "    This function computes the decision taken by the participants for every potential decision input\n",
        "\n",
        "    Inputs : x_points (numpy array) is the set of points on which we evaluated the posterior\n",
        "             posterior_array (numpy array) is the posterior distribution\n",
        "\n",
        "    Outputs : binary_decision_array (numpy array) that contains the decision taken for every potential input stimulus\n",
        "    \"\"\"\n",
        "\n",
        "    binary_decision_array = np.zeros_like(posterior_array)\n",
        "    ###########################\n",
        "    ### your code goes here ###\n",
        "    ###########################\n",
        "\n",
        "\n",
        "    return binary_decision_array\n",
        "\n",
        "\n",
        "#Run the lines below to test your code\n",
        "binary_decision_array = calculate_binary_decision_array(x, posterior_array)\n",
        "\n",
        "fig = plt.figure()\n",
        "ax = fig.add_subplot(111)\n",
        "colormap = ax.imshow(binary_decision_array, extent=[-10, 10, 8, -8])\n",
        "cbar = plt.colorbar(colormap, ax=ax)\n",
        "cbar.set_label('probability')\n",
        "ax.invert_yaxis()\n",
        "ax.set_ylabel('Brain encoded Stimulus $\\~x$')\n",
        "ax.set_title('Sample Binary Decision Array')\n",
        "ax.set_xlabel('Chosen position $\\hat x$')\n",
        "ax.set_aspect('auto')\n"
      ],
      "execution_count": null,
      "outputs": []
    },
    {
      "cell_type": "markdown",
      "metadata": {
        "id": "MxdP4th3LR6R"
      },
      "source": [
        "\n",
        "*Example output:*\n",
        "\n",
        "<img alt='Solution hint' align='left' width=413 height=300 src=https://raw.githubusercontent.com/svandergoote/LGBIO2060-2021/master/Solutions/TP3_sol6.PNG>"
      ]
    },
    {
      "cell_type": "markdown",
      "metadata": {
        "id": "G1suFysH15Dh"
      },
      "source": [
        "In real life experiment, we typically have the response and the stimulus. With the schema above, we can therefore recover the brain encoding given the subject response."
      ]
    }
  ]
}