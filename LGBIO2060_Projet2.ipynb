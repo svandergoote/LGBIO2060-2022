{
  "nbformat": 4,
  "nbformat_minor": 0,
  "metadata": {
    "colab": {
      "provenance": [],
      "collapsed_sections": [],
      "include_colab_link": true
    },
    "kernelspec": {
      "name": "python3",
      "display_name": "Python 3"
    },
    "language_info": {
      "name": "python"
    }
  },
  "cells": [
    {
      "cell_type": "markdown",
      "metadata": {
        "id": "view-in-github",
        "colab_type": "text"
      },
      "source": [
        "<a href=\"https://colab.research.google.com/github/svandergoote/LGBIO2060-2022/blob/main/LGBIO2060_Projet2.ipynb\" target=\"_parent\"><img src=\"https://colab.research.google.com/assets/colab-badge.svg\" alt=\"Open In Colab\"/></a>"
      ]
    },
    {
      "cell_type": "markdown",
      "metadata": {
        "id": "JXBXI9lR_bN6"
      },
      "source": [
        "#Project 2 : Hidden Markov models and optimal control\n",
        "Authors : Simon Vandergooten and Clémence Vandamme.\n",
        "\n",
        "In this second project, you will implement a Hidden Markov Model with 3 states and apply to your posterior probabilities optimal control. In other words, based on your knowledge and uncertainties, you will decide the optimal actions you need to take in any situation.\n",
        "\n",
        "##Context :\n",
        "The belgian government is trying to develop a new strategy to differentiate between patients with hypertension and those with hypotension in order to help preventing fainting and cardiac arrest.\n",
        "\n",
        "Patients can be in one of the three following states : healthy, hypertension or hypotension. The patient's health status is represented by the vector $S$, where each value $s_t$ represents the patient's status in day $t$. The government also provides you the transition probabilities between each state, based on data from the national public health department.\n",
        "\n",
        "You received the blood pressure measurements of 5 patients for 150 days. Those measurements are made with a new state-of-the-art tool. However, the design of this tool is not perfect (yet) and the measurements are very imprecise. Based on these data, you are asked to provide the probabilities of each state (hypertension, hypotension and healthy) at each timestep for the 5 patients. \n",
        "\n",
        "Furthermore, two drugs are available on the market. One aims to lower the blood pressure, the other increases it. At each moment, you need to determine if you should take a drug and which one. However, take into account that these drugs have a cost and that taking a drug when healthy represents a risk to make the situation worse.  \n",
        "\n",
        "##Practical information:\n",
        "### HMM\n",
        "\n",
        "The following graph sums up the different states and their transition probabilities. **The initial state is healthy**.\n",
        "\n",
        "<img alt='Solution hint' align='center' width=450 height=450 src=https://raw.githubusercontent.com/svandergoote/LGBIO2060-2021/master/Solutions/Projet2_2022.png> \n",
        "\n",
        "\\\\\n",
        "\n",
        "### Measurements\n",
        "\n",
        "Concerning the measurements $m_t$, the systolic blood pressure levels are distributed as follow:\n",
        "\n",
        "* $m_t \\sim \\mathcal{N}$(120, $\\sigma_{healthy}^2$) if $s_t$ = 'healthy'.\n",
        "\n",
        "* $m_t \\sim \\mathcal{N}$(160, $\\sigma_{hyper}^2$) if $s_t$ = 'hyper'.\n",
        "\n",
        "* $m_t \\sim \\mathcal{N}$(80, $\\sigma_{hypo}^2$) if $s_t$ = 'hypo'.\n",
        "\n",
        "Where $\\sigma_{healthy}, \\, \\sigma_{hyper}, \\, \\sigma_{hypo}=27, \\, 30\\, , 28$  are the measurement noise related to the new tool.\n",
        " \n",
        "\n",
        "\\\\\n",
        "### Potential actions and their effects\n",
        "\n",
        "Each day, you have 3 options:\n",
        "- Take a drug A\n",
        "    - It has 80% chances to **lower** your tension to 120 if you suffer from **hypertension**. (Therefore, 20% chances to have no effect). \n",
        "    - It has 40% chance to **lower** your tension to 80 if you were **healthy**. \n",
        "    - It has **no effect** if you suffer from **hypotension**.\n",
        "\n",
        "- Take a drug B \n",
        "    - It has 80% chances to **increase** your tension to 120 if you suffer from **hypotension**.\n",
        "    - It has 40% chances to **increase** your tension to 160 if you were **healthy**.\n",
        "    - It has **no effect** if you suffer from **hypertension**.\n",
        "\n",
        "- Do nothing: no effect on your blood pressure in any state. \n",
        "\n",
        "VERY IMPORTANT NOTE : The action has no impact on the state transition and the state itself. It should only be the most appropriate action based on your belief about the state. For example, if a patient has hypertension today, takes the drug A and recovers a normal tension; tomorrow's state will be based on the fact that the patient had hypertension today. In other words, you can first estimate all states, then compute independently the most appropriate actions. \n",
        "\n",
        "\\\\\n",
        "### Utility and cost\n",
        "Utility values associated to blood pressure: \n",
        "- 120 mmHg : U = +2\n",
        "- 160 mmHg : U = -2 (risk of heart attack)\n",
        "- 80 mmHg : U = -1 (risk of fainting) \n",
        "\n",
        "Costs:\n",
        "- Drug A : 2\n",
        "- Drug B : 2\n",
        "\n",
        "\n",
        "\n",
        "\n",
        "\n"
      ]
    },
    {
      "cell_type": "markdown",
      "metadata": {
        "id": "897nu5sKSy7b"
      },
      "source": [
        "## Guidelines \n",
        "\n",
        "**READ THIS PART CAREFULLY**\n",
        "\n",
        "For the first part of the project, you are asked to estimate the posterior probability of each state at any time, based on the measurements vector M and on the transition probabilities. M contains 150 measurements. Then, graphically represent the evolution of these probabilities. The way you plot these data is up to you, make it readable and interpretable (you do not necessarily have to represent all the time steps). \n",
        "\n",
        "\n",
        "In the second part, determine the policy you will follow at each time step to choose the optimal action. Based on this policy, return the vector of actions taken for the given data. A policy must be optimal in the sense that it maximizes the benefit (utility) and minimizes the cost. It simply consists in setting a threshold on your posterior belief. For example, \"*if I have more than 65% probability to have hypertension, I will take drug A*\" is a policy. We give you the 100 first true states to test different policies (i.e, different thresholds) and determine which one is the best. Indeed, with the true states, you can determine the impact of your actions and compute both the benefit and the cost. \n",
        "After finding your optimal policy, you can look at the actions chosen for your measures for which you do not have the true states (i.e the last 50 measurements).\n",
        "\n",
        "\n",
        "Finally, discuss the impact of some relevant parameters of the model. For exemple, what do you observe in the policy and selected actions if the cost of both drugs increase ? Also, do the thresholds depends on the subjects ? Why ? \n",
        "\n",
        "\n",
        "\\\\\n",
        "###To sum up:\n",
        "\n",
        "1) Create your HMM and compute the posterior probabilities associated to each state based on the measurements. \n",
        "\n",
        "2) Graphically represent the evolution of the posteriors.\n",
        "\n",
        "3) Define an optimal policy (this answer must appear clearly).  \n",
        "\n",
        "4) Based on your policy, determine the drug to take at each time step for the given data. \n",
        "\n",
        "5) Discuss the impact of the parameters of the model on the policy and the resulting actions. \n",
        "\n",
        "\n",
        "###Data:\n",
        "\n",
        "- The vector $S$ containing the 100 first hidden states $s_t$ (one row per patient): \n",
        "  * $s_t$ = 'healthy' if the patient's state is healthy for day $t$ \n",
        "  * $s_t$ = 'hyper' if the patient's state is hypertension for day $t$ \n",
        "  * $s_t$ = 'hypo' if the patient's state is hypotension for day $t$ \n",
        "\n",
        "  It must be only used to determine the optimal policy. **It cannot be used for the HMM**. \n",
        "\n",
        "- The vector $M$ containing 150 measurements $m_t$. It is a vector of scalars (one row per patient). \n",
        "\n",
        "###Submission\n",
        "Like for the first project, you must submit your notebook with all your answers. \\\\\n",
        "The **deadline is the Thurday 24 November 23:59**. Name your notebook as follow : \"LGBIO2060_Projet2_Grxx\". \\\\\n",
        "Don't forget to register for a timeslot for the oral evaluation."
      ]
    },
    {
      "cell_type": "code",
      "metadata": {
        "id": "CX9HkUVS_YJT"
      },
      "source": [
        "#Your contribution starts here\n"
      ],
      "execution_count": null,
      "outputs": []
    }
  ]
}